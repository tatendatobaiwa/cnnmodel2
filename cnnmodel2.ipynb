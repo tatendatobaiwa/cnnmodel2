{
  "nbformat": 4,
  "nbformat_minor": 0,
  "metadata": {
    "colab": {
      "provenance": [],
      "mount_file_id": "1CaxMGNW7MDU-RPb-dOCKqpqFeJRrf_PU",
      "authorship_tag": "ABX9TyOCkGl0nBtRoidxOFaZWvD1",
      "include_colab_link": true
    },
    "kernelspec": {
      "name": "python3",
      "display_name": "Python 3"
    },
    "language_info": {
      "name": "python"
    }
  },
  "cells": [
    {
      "cell_type": "markdown",
      "metadata": {
        "id": "view-in-github",
        "colab_type": "text"
      },
      "source": [
        "<a href=\"https://colab.research.google.com/github/tatendatobaiwa/cnnmodel2/blob/main/cnnmodel2.ipynb\" target=\"_parent\"><img src=\"https://colab.research.google.com/assets/colab-badge.svg\" alt=\"Open In Colab\"/></a>"
      ]
    },
    {
      "cell_type": "markdown",
      "source": [
        "# ***SIMPLE CNN MODEL BUILD FOR LUNG CANCER IMAGING***"
      ],
      "metadata": {
        "id": "QlaQ4nr_yhw1"
      }
    },
    {
      "cell_type": "markdown",
      "source": [
        "**Step 1: Mount Drive**"
      ],
      "metadata": {
        "id": "8B-3KEZEypc8"
      }
    },
    {
      "cell_type": "code",
      "execution_count": 3,
      "metadata": {
        "colab": {
          "base_uri": "https://localhost:8080/"
        },
        "id": "ViKWf2N6yg8I",
        "outputId": "cbcdc96f-4101-4a38-e8c7-bb4d25629648"
      },
      "outputs": [
        {
          "output_type": "stream",
          "name": "stdout",
          "text": [
            "Drive already mounted at /content/drive; to attempt to forcibly remount, call drive.mount(\"/content/drive\", force_remount=True).\n"
          ]
        }
      ],
      "source": [
        "from google.colab import drive\n",
        "drive.mount('/content/drive')"
      ]
    },
    {
      "cell_type": "markdown",
      "source": [
        "**Step 2: Create Directories in Drive**"
      ],
      "metadata": {
        "id": "St-4OKQZyt6s"
      }
    },
    {
      "cell_type": "markdown",
      "source": [
        "**Step 3: Install Dependenices**"
      ],
      "metadata": {
        "id": "FEmy_QBs3odT"
      }
    },
    {
      "cell_type": "code",
      "source": [
        "import tensorflow as tf\n",
        "import cv2\n",
        "import numpy as np\n",
        "from pathlib import Path\n",
        "import matplotlib.pyplot as plt\n",
        "import os\n",
        "import sys\n",
        "from sklearn.model_selection import train_test_split\n",
        "from tensorflow.keras.preprocessing.image import ImageDataGenerator\n",
        "from tensorflow.keras.callbacks import EarlyStopping, ModelCheckpoint\n",
        "from sklearn.metrics import classification_report, confusion_matrix\n",
        "import seaborn as sns\n",
        "\n",
        "project_path = '/content/drive/MyDrive/cnnprojectfinal'\n",
        "sys.path.append(project_path)"
      ],
      "metadata": {
        "id": "LU4bCKlz33CN"
      },
      "execution_count": 1,
      "outputs": []
    },
    {
      "cell_type": "markdown",
      "source": [
        "**Mini Step 3a: Verify Fixes**"
      ],
      "metadata": {
        "id": "9Gj1wK6r3_x1"
      }
    },
    {
      "cell_type": "code",
      "source": [
        "import tensorflow as tf\n",
        "import tensorflow_addons as tfa\n",
        "\n",
        "print(f\"TensorFlow version: {tf.__version__}\")\n",
        "print(f\"TensorFlow Addons version: {tfa.__version__}\")"
      ],
      "metadata": {
        "id": "jfOxvHnv39_V",
        "colab": {
          "base_uri": "https://localhost:8080/"
        },
        "outputId": "830e5a38-de79-4f44-83ee-a330e542d23b"
      },
      "execution_count": 1,
      "outputs": [
        {
          "output_type": "stream",
          "name": "stderr",
          "text": [
            "/usr/local/lib/python3.11/dist-packages/tensorflow_addons/utils/tfa_eol_msg.py:23: UserWarning: \n",
            "\n",
            "TensorFlow Addons (TFA) has ended development and introduction of new features.\n",
            "TFA has entered a minimal maintenance and release mode until a planned end of life in May 2024.\n",
            "Please modify downstream libraries to take dependencies from other repositories in our TensorFlow community (e.g. Keras, Keras-CV, and Keras-NLP). \n",
            "\n",
            "For more information see: https://github.com/tensorflow/addons/issues/2807 \n",
            "\n",
            "  warnings.warn(\n"
          ]
        },
        {
          "output_type": "stream",
          "name": "stdout",
          "text": [
            "TensorFlow version: 2.13.0\n",
            "TensorFlow Addons version: 0.23.0\n"
          ]
        }
      ]
    },
    {
      "cell_type": "markdown",
      "source": [
        "**Step 4: Use a script to Load and Preprocess Data**"
      ],
      "metadata": {
        "id": "34UkySdn4Ei2"
      }
    },
    {
      "cell_type": "code",
      "source": [
        "import cv2\n",
        "import numpy as np\n",
        "from pathlib import Path\n",
        "from tensorflow.keras.preprocessing.image import ImageDataGenerator\n",
        "from sklearn.model_selection import train_test_split\n",
        "import matplotlib.pyplot as plt\n",
        "\n",
        "class DataProcessor:\n",
        "    def __init__(self, base_path=\"/content/drive/MyDrive/cnnprojectfinal\"):\n",
        "        self.base_path = Path(base_path)\n",
        "        self.train_path = self.base_path / \"data/raw/train\"\n",
        "        self.test_path = self.base_path / \"data/raw/test\"\n",
        "\n",
        "    def load_images(self, directory, target_size=(256, 256), use_clahe=False):\n",
        "        images = []\n",
        "        labels = []\n",
        "        class_names = ['benign', 'malignant', 'normal']\n",
        "        for label, class_name in enumerate(class_names):\n",
        "            class_dir = directory / class_name\n",
        "            for img_path in class_dir.glob('*'):\n",
        "                if img_path.suffix.lower() in ('.png', '.jpg', '.jpeg'):\n",
        "                    img = cv2.imread(str(img_path), cv2.IMREAD_GRAYSCALE)\n",
        "                    if img is None:\n",
        "                        print(f\"Warning: Unable to load image {img_path}\")\n",
        "                        continue\n",
        "                    if use_clahe:\n",
        "                        clahe = cv2.createCLAHE(clipLimit=2.0, tileGridSize=(8, 8))\n",
        "                        img = clahe.apply(img)\n",
        "                    img = cv2.resize(img, target_size)\n",
        "                    images.append(img)\n",
        "                    labels.append(label)\n",
        "        return np.array(images), np.array(labels)\n",
        "\n",
        "    def create_generators(self, batch_size=32, use_clahe=False):\n",
        "        # Load images and normalize to [0, 1]\n",
        "        X_train, y_train = self.load_images(self.train_path, use_clahe=use_clahe)\n",
        "        X_train = X_train[..., np.newaxis] / 255.0\n",
        "\n",
        "        # Split into training and validation sets (stratified)\n",
        "        X_train, X_val, y_train, y_val = train_test_split(\n",
        "            X_train, y_train, test_size=0.2, stratify=y_train, random_state=42\n",
        "        )\n",
        "\n",
        "        # Data augmentation for training\n",
        "        train_datagen = ImageDataGenerator(\n",
        "            rotation_range=20,\n",
        "            width_shift_range=0.2,\n",
        "            height_shift_range=0.2,\n",
        "            shear_range=0.2,\n",
        "            zoom_range=0.2,\n",
        "            horizontal_flip=True,\n",
        "            brightness_range=[1.0, 1.5],\n",
        "            fill_mode='nearest'\n",
        "        )\n",
        "        val_datagen = ImageDataGenerator()  # No augmentation for validation\n",
        "\n",
        "        train_generator = train_datagen.flow(X_train, y_train, batch_size=batch_size, shuffle=True)\n",
        "        val_generator = val_datagen.flow(X_val, y_val, batch_size=batch_size, shuffle=False)\n",
        "        return train_generator, val_generator, X_val, y_val\n",
        "\n",
        "    def show_augmented_images(self, generator, n_images=5, gamma=1.0):\n",
        "        \"\"\"\n",
        "        Visualizes a few augmented images.\n",
        "        - gamma: a factor for gamma correction (set gamma < 1 to brighten).\n",
        "        \"\"\"\n",
        "        images, labels = next(generator)\n",
        "        plt.figure(figsize=(15, 3))\n",
        "        for i in range(n_images):\n",
        "            img = images[i].squeeze()\n",
        "            if gamma != 1.0:\n",
        "                img = np.power(img, 1.0/gamma)\n",
        "            plt.subplot(1, n_images, i+1)\n",
        "            plt.imshow(img, cmap='gray', vmin=0, vmax=1)\n",
        "            plt.title(f\"Label: {labels[i]}\")\n",
        "            plt.axis('off')\n",
        "        plt.tight_layout()\n",
        "        plt.show()"
      ],
      "metadata": {
        "id": "BngS1vGK4FOm"
      },
      "execution_count": 2,
      "outputs": []
    },
    {
      "cell_type": "markdown",
      "source": [
        "**Step 5: Model Training**"
      ],
      "metadata": {
        "id": "9IWDOW6s4eNI"
      }
    },
    {
      "cell_type": "code",
      "source": [
        "import sys\n",
        "import os\n",
        "import tensorflow as tf\n",
        "from tensorflow.keras.callbacks import EarlyStopping, ModelCheckpoint, ReduceLROnPlateau\n",
        "import matplotlib.pyplot as plt\n",
        "\n",
        "# Set project root path\n",
        "project_path = '/content/drive/MyDrive/cnnprojectfinal'\n",
        "if project_path not in sys.path:\n",
        "    sys.path.append(project_path)\n",
        "\n",
        "# Import the DataProcessor from the utils directory\n",
        "from utils.data_processing import DataProcessor\n",
        "\n",
        "# Define the transfer-learning model using MobileNetV2\n",
        "def create_model_transfer(input_shape=(256, 256, 1), num_classes=3):\n",
        "    \"\"\"\n",
        "    Creates a transfer-learning model based on MobileNetV2.\n",
        "\n",
        "    For grayscale images, the single channel is duplicated to form a 3-channel input.\n",
        "    \"\"\"\n",
        "    # Input layer for grayscale image; convert to 3 channels\n",
        "    input_layer = tf.keras.layers.Input(shape=input_shape)\n",
        "    x = tf.keras.layers.Concatenate()([input_layer, input_layer, input_layer])\n",
        "\n",
        "    # Load MobileNetV2 with pre-trained ImageNet weights, excluding the top classification layers\n",
        "    base_model = tf.keras.applications.MobileNetV2(\n",
        "        input_shape=(256, 256, 3),\n",
        "        include_top=False,\n",
        "        weights='imagenet'\n",
        "    )\n",
        "    base_model.trainable = False  # Freeze the base model so its weights aren't updated\n",
        "\n",
        "    x = base_model(x, training=False)\n",
        "    x = tf.keras.layers.GlobalAveragePooling2D()(x)\n",
        "    x = tf.keras.layers.BatchNormalization()(x)\n",
        "    x = tf.keras.layers.Dense(128, activation='relu')(x)\n",
        "    x = tf.keras.layers.Dropout(0.5)(x)\n",
        "    output = tf.keras.layers.Dense(num_classes, activation='softmax')(x)\n",
        "\n",
        "    model = tf.keras.Model(inputs=input_layer, outputs=output)\n",
        "    model.compile(optimizer='adam',\n",
        "                  loss='sparse_categorical_crossentropy',\n",
        "                  metrics=['accuracy'])\n",
        "    return model\n",
        "\n",
        "# Define training and plotting functions\n",
        "def train_model(model, train_generator, val_generator, epochs=50, checkpoint_path='best_model.h5'):\n",
        "    \"\"\"\n",
        "    Trains the model with callbacks for early stopping, checkpointing, and learning rate reduction.\n",
        "    \"\"\"\n",
        "    early_stop = EarlyStopping(monitor='val_loss', patience=10, restore_best_weights=True, verbose=1)\n",
        "    checkpoint = ModelCheckpoint(checkpoint_path, monitor='val_loss', save_best_only=True, verbose=1)\n",
        "    reduce_lr = ReduceLROnPlateau(monitor='val_loss', factor=0.5, patience=5, min_lr=1e-6, verbose=1)\n",
        "    callbacks = [early_stop, checkpoint, reduce_lr]\n",
        "\n",
        "    history = model.fit(\n",
        "        train_generator,\n",
        "        validation_data=val_generator,\n",
        "        epochs=epochs,\n",
        "        callbacks=callbacks,\n",
        "        verbose=1\n",
        "    )\n",
        "    return history\n",
        "\n",
        "def plot_training_history(history):\n",
        "    \"\"\"\n",
        "    Plots the training and validation loss and accuracy over epochs.\n",
        "    \"\"\"\n",
        "    plt.figure(figsize=(12, 5))\n",
        "\n",
        "    plt.subplot(1, 2, 1)\n",
        "    plt.plot(history.history['loss'], label='Train Loss')\n",
        "    plt.plot(history.history['val_loss'], label='Val Loss')\n",
        "    plt.xlabel('Epoch')\n",
        "    plt.ylabel('Loss')\n",
        "    plt.legend()\n",
        "\n",
        "    plt.subplot(1, 2, 2)\n",
        "    plt.plot(history.history['accuracy'], label='Train Accuracy')\n",
        "    plt.plot(history.history['val_accuracy'], label='Val Accuracy')\n",
        "    plt.xlabel('Epoch')\n",
        "    plt.ylabel('Accuracy')\n",
        "    plt.legend()\n",
        "\n",
        "    plt.tight_layout()\n",
        "    plt.show()\n",
        "\n",
        "if __name__ == '__main__':\n",
        "    # Initialize the data processor and create data generators\n",
        "    processor = DataProcessor()\n",
        "    train_gen, val_gen, X_val, y_val = processor.create_generators(batch_size=32)\n",
        "\n",
        "    # Create the MobileNetV2-based transfer learning model\n",
        "    model = create_model_transfer(input_shape=(256, 256, 1), num_classes=3)\n",
        "\n",
        "    # Train the model\n",
        "    history = train_model(model, train_gen, val_gen, epochs=50, checkpoint_path='best_model.h5')\n",
        "\n",
        "    # Plot the training history\n",
        "    plot_training_history(history)\n",
        "\n",
        "    # Save the final model in the current directory (or specify a desired path)\n",
        "    final_model_path = '/content/drive/MyDrive/cnnprojectfinal/models/final_model.h5'\n",
        "    model.save(final_model_path)\n",
        "    print(f\"Model saved as {final_model_path}\")\n"
      ],
      "metadata": {
        "id": "30Q6MoyY4ri5",
        "colab": {
          "base_uri": "https://localhost:8080/",
          "height": 1000
        },
        "outputId": "a68bfe40-3eee-4745-d362-fbf07a7c6c05"
      },
      "execution_count": 12,
      "outputs": [
        {
          "output_type": "stream",
          "name": "stderr",
          "text": [
            "WARNING:tensorflow:`input_shape` is undefined or non-square, or `rows` is not in [96, 128, 160, 192, 224]. Weights for input shape (224, 224) will be loaded as the default.\n"
          ]
        },
        {
          "output_type": "stream",
          "name": "stdout",
          "text": [
            "Epoch 1/50\n",
            "28/28 [==============================] - ETA: 0s - loss: 1.3450 - accuracy: 0.5120\n",
            "Epoch 1: val_loss improved from inf to 1.91855, saving model to best_model.h5\n"
          ]
        },
        {
          "output_type": "stream",
          "name": "stderr",
          "text": [
            "/usr/local/lib/python3.11/dist-packages/keras/src/engine/training.py:3000: UserWarning: You are saving your model as an HDF5 file via `model.save()`. This file format is considered legacy. We recommend using instead the native Keras format, e.g. `model.save('my_model.keras')`.\n",
            "  saving_api.save_model(\n"
          ]
        },
        {
          "output_type": "stream",
          "name": "stdout",
          "text": [
            "\b\b\b\b\b\b\b\b\b\b\b\b\b\b\b\b\b\b\b\b\b\b\b\b\b\b\b\b\b\b\b\b\b\b\b\b\b\b\b\b\b\b\b\b\b\b\b\b\b\b\b\b\b\b\b\b\b\b\b\b\b\b\b\b\b\b\b\b\b\b\b\b\b\b\b\b\b\b\b\b\b\b\r28/28 [==============================] - 102s 4s/step - loss: 1.3450 - accuracy: 0.5120 - val_loss: 1.9186 - val_accuracy: 0.5091 - lr: 0.0010\n",
            "Epoch 2/50\n",
            "28/28 [==============================] - ETA: 0s - loss: 0.9770 - accuracy: 0.6465\n",
            "Epoch 2: val_loss improved from 1.91855 to 1.80576, saving model to best_model.h5\n",
            "28/28 [==============================] - 86s 3s/step - loss: 0.9770 - accuracy: 0.6465 - val_loss: 1.8058 - val_accuracy: 0.5000 - lr: 0.0010\n",
            "Epoch 3/50\n",
            "28/28 [==============================] - ETA: 0s - loss: 0.8549 - accuracy: 0.6682\n",
            "Epoch 3: val_loss did not improve from 1.80576\n",
            "28/28 [==============================] - 80s 3s/step - loss: 0.8549 - accuracy: 0.6682 - val_loss: 2.3130 - val_accuracy: 0.5136 - lr: 0.0010\n",
            "Epoch 4/50\n",
            "28/28 [==============================] - ETA: 0s - loss: 0.8402 - accuracy: 0.6807\n",
            "Epoch 4: val_loss did not improve from 1.80576\n",
            "28/28 [==============================] - 83s 3s/step - loss: 0.8402 - accuracy: 0.6807 - val_loss: 2.4162 - val_accuracy: 0.5136 - lr: 0.0010\n",
            "Epoch 5/50\n",
            "28/28 [==============================] - ETA: 0s - loss: 0.8398 - accuracy: 0.6648\n",
            "Epoch 5: val_loss improved from 1.80576 to 1.47616, saving model to best_model.h5\n",
            "28/28 [==============================] - 87s 3s/step - loss: 0.8398 - accuracy: 0.6648 - val_loss: 1.4762 - val_accuracy: 0.5227 - lr: 0.0010\n",
            "Epoch 6/50\n",
            "28/28 [==============================] - ETA: 0s - loss: 0.7302 - accuracy: 0.7013\n",
            "Epoch 6: val_loss did not improve from 1.47616\n",
            "28/28 [==============================] - 80s 3s/step - loss: 0.7302 - accuracy: 0.7013 - val_loss: 2.0750 - val_accuracy: 0.5227 - lr: 0.0010\n",
            "Epoch 7/50\n",
            "28/28 [==============================] - ETA: 0s - loss: 0.7850 - accuracy: 0.6933\n",
            "Epoch 7: val_loss did not improve from 1.47616\n",
            "28/28 [==============================] - 83s 3s/step - loss: 0.7850 - accuracy: 0.6933 - val_loss: 2.8856 - val_accuracy: 0.5136 - lr: 0.0010\n",
            "Epoch 8/50\n",
            "28/28 [==============================] - ETA: 0s - loss: 0.7415 - accuracy: 0.7035\n",
            "Epoch 8: val_loss did not improve from 1.47616\n",
            "28/28 [==============================] - 87s 3s/step - loss: 0.7415 - accuracy: 0.7035 - val_loss: 3.8173 - val_accuracy: 0.5136 - lr: 0.0010\n",
            "Epoch 9/50\n",
            "28/28 [==============================] - ETA: 0s - loss: 0.7729 - accuracy: 0.7047\n",
            "Epoch 9: val_loss did not improve from 1.47616\n",
            "28/28 [==============================] - 80s 3s/step - loss: 0.7729 - accuracy: 0.7047 - val_loss: 4.2749 - val_accuracy: 0.5136 - lr: 0.0010\n",
            "Epoch 10/50\n",
            "28/28 [==============================] - ETA: 0s - loss: 0.7501 - accuracy: 0.7070\n",
            "Epoch 10: val_loss did not improve from 1.47616\n",
            "\n",
            "Epoch 10: ReduceLROnPlateau reducing learning rate to 0.0005000000237487257.\n",
            "28/28 [==============================] - 88s 3s/step - loss: 0.7501 - accuracy: 0.7070 - val_loss: 2.9994 - val_accuracy: 0.5227 - lr: 0.0010\n",
            "Epoch 11/50\n",
            "28/28 [==============================] - ETA: 0s - loss: 0.6392 - accuracy: 0.7206\n",
            "Epoch 11: val_loss did not improve from 1.47616\n",
            "28/28 [==============================] - 89s 3s/step - loss: 0.6392 - accuracy: 0.7206 - val_loss: 3.9460 - val_accuracy: 0.5136 - lr: 5.0000e-04\n",
            "Epoch 12/50\n",
            "28/28 [==============================] - ETA: 0s - loss: 0.6577 - accuracy: 0.7286\n",
            "Epoch 12: val_loss did not improve from 1.47616\n",
            "28/28 [==============================] - 82s 3s/step - loss: 0.6577 - accuracy: 0.7286 - val_loss: 4.0715 - val_accuracy: 0.5136 - lr: 5.0000e-04\n",
            "Epoch 13/50\n",
            "28/28 [==============================] - ETA: 0s - loss: 0.6422 - accuracy: 0.7434\n",
            "Epoch 13: val_loss did not improve from 1.47616\n",
            "28/28 [==============================] - 84s 3s/step - loss: 0.6422 - accuracy: 0.7434 - val_loss: 3.9474 - val_accuracy: 0.5227 - lr: 5.0000e-04\n",
            "Epoch 14/50\n",
            "28/28 [==============================] - ETA: 0s - loss: 0.6786 - accuracy: 0.7149\n",
            "Epoch 14: val_loss did not improve from 1.47616\n",
            "28/28 [==============================] - 84s 3s/step - loss: 0.6786 - accuracy: 0.7149 - val_loss: 4.8281 - val_accuracy: 0.5182 - lr: 5.0000e-04\n",
            "Epoch 15/50\n",
            "28/28 [==============================] - ETA: 0s - loss: 0.6211 - accuracy: 0.7480Restoring model weights from the end of the best epoch: 5.\n",
            "\n",
            "Epoch 15: val_loss did not improve from 1.47616\n",
            "\n",
            "Epoch 15: ReduceLROnPlateau reducing learning rate to 0.0002500000118743628.\n",
            "28/28 [==============================] - 86s 3s/step - loss: 0.6211 - accuracy: 0.7480 - val_loss: 6.1905 - val_accuracy: 0.5136 - lr: 5.0000e-04\n",
            "Epoch 15: early stopping\n"
          ]
        },
        {
          "output_type": "display_data",
          "data": {
            "text/plain": [
              "<Figure size 1200x500 with 2 Axes>"
            ],
            "image/png": "[encoded data removed]"
          },
          "metadata": {}
        },
        {
          "output_type": "stream",
          "name": "stdout",
          "text": [
            "Model saved as /content/drive/MyDrive/cnnprojectfinal/models/final_model.h5\n"
          ]
        }
      ]
    },
    {
      "cell_type": "markdown",
      "source": [
        "**Step 6b: Coninuation of training the final model**"
      ],
      "metadata": {
        "id": "ZQJxPs_INqhv"
      }
    },
    {
      "cell_type": "code",
      "source": [
        "import os\n",
        "import tensorflow as tf\n",
        "from tensorflow.keras.callbacks import EarlyStopping, ModelCheckpoint, ReduceLROnPlateau\n",
        "from utils.data_processing import DataProcessor\n",
        "from utils.model_transfer import create_model_transfer  # Your MobileNetV2 model function\n",
        "\n",
        "# Set model path\n",
        "model_path = \"/content/drive/MyDrive/cnnprojectfinal/models/final_model.h5\"\n",
        "\n",
        "# Initialize the data processor and generators\n",
        "processor = DataProcessor()\n",
        "train_gen, val_gen, _, _ = processor.create_generators(batch_size=32)\n",
        "\n",
        "# Check if a trained model exists and load it\n",
        "if os.path.exists(model_path):\n",
        "    print(\"🔄 Loading existing trained model...\")\n",
        "    model = tf.keras.models.load_model(model_path)\n",
        "else:\n",
        "    print(\"🚀 No existing model found. Creating a new one...\")\n",
        "    model = create_model_transfer(input_shape=(256, 256, 1), num_classes=3)\n",
        "\n",
        "# Set up callbacks\n",
        "early_stop = EarlyStopping(monitor='val_loss', patience=10, restore_best_weights=True, verbose=1)\n",
        "checkpoint = ModelCheckpoint(model_path, monitor='val_loss', save_best_only=True, verbose=1)\n",
        "reduce_lr = ReduceLROnPlateau(monitor='val_loss', factor=0.5, patience=5, min_lr=1e-6, verbose=1)\n",
        "callbacks = [early_stop, checkpoint, reduce_lr]\n",
        "\n",
        "# Train the model (continue training from the existing one)\n",
        "history = model.fit(\n",
        "    train_gen,\n",
        "    validation_data=val_gen,\n",
        "    epochs=50,  # Continue training with additional epochs\n",
        "    callbacks=callbacks,\n",
        "    verbose=1\n",
        ")\n",
        "\n",
        "# Save the updated model again\n",
        "model.save(model_path)\n",
        "print(\"✅ Model training complete and saved.\")\n"
      ],
      "metadata": {
        "colab": {
          "base_uri": "https://localhost:8080/"
        },
        "id": "-h0Fw-FqNzuI",
        "outputId": "2dcf8876-ff0e-4962-b756-099eba46a338"
      },
      "execution_count": 11,
      "outputs": [
        {
          "output_type": "stream",
          "name": "stdout",
          "text": [
            "🔄 Loading existing trained model...\n",
            "Epoch 1/50\n",
            "28/28 [==============================] - ETA: 0s - loss: 0.8558 - accuracy: 0.6682\n",
            "Epoch 1: val_loss improved from inf to 1.26777, saving model to /content/drive/MyDrive/cnnprojectfinal/models/final_model.h5\n"
          ]
        },
        {
          "output_type": "stream",
          "name": "stderr",
          "text": [
            "/usr/local/lib/python3.11/dist-packages/keras/src/engine/training.py:3000: UserWarning: You are saving your model as an HDF5 file via `model.save()`. This file format is considered legacy. We recommend using instead the native Keras format, e.g. `model.save('my_model.keras')`.\n",
            "  saving_api.save_model(\n"
          ]
        },
        {
          "output_type": "stream",
          "name": "stdout",
          "text": [
            "\b\b\b\b\b\b\b\b\b\b\b\b\b\b\b\b\b\b\b\b\b\b\b\b\b\b\b\b\b\b\b\b\b\b\b\b\b\b\b\b\b\b\b\b\b\b\b\b\b\b\b\b\b\b\b\b\b\b\b\b\b\b\b\b\b\b\b\b\b\b\b\b\b\b\b\b\b\b\b\b\b\b\r28/28 [==============================] - 93s 3s/step - loss: 0.8558 - accuracy: 0.6682 - val_loss: 1.2678 - val_accuracy: 0.4909 - lr: 2.5000e-04\n",
            "Epoch 2/50\n",
            "28/28 [==============================] - ETA: 0s - loss: 0.7427 - accuracy: 0.7001\n",
            "Epoch 2: val_loss did not improve from 1.26777\n",
            "28/28 [==============================] - 90s 3s/step - loss: 0.7427 - accuracy: 0.7001 - val_loss: 1.5409 - val_accuracy: 0.4909 - lr: 2.5000e-04\n",
            "Epoch 3/50\n",
            "28/28 [==============================] - ETA: 0s - loss: 0.7235 - accuracy: 0.7252\n",
            "Epoch 3: val_loss did not improve from 1.26777\n",
            "28/28 [==============================] - 82s 3s/step - loss: 0.7235 - accuracy: 0.7252 - val_loss: 2.0339 - val_accuracy: 0.4909 - lr: 2.5000e-04\n",
            "Epoch 4/50\n",
            "28/28 [==============================] - ETA: 0s - loss: 0.7826 - accuracy: 0.6910\n",
            "Epoch 4: val_loss did not improve from 1.26777\n",
            "28/28 [==============================] - 86s 3s/step - loss: 0.7826 - accuracy: 0.6910 - val_loss: 2.1970 - val_accuracy: 0.4955 - lr: 2.5000e-04\n",
            "Epoch 5/50\n",
            "28/28 [==============================] - ETA: 0s - loss: 0.7748 - accuracy: 0.7035\n",
            "Epoch 5: val_loss did not improve from 1.26777\n",
            "28/28 [==============================] - 84s 3s/step - loss: 0.7748 - accuracy: 0.7035 - val_loss: 2.1155 - val_accuracy: 0.4864 - lr: 2.5000e-04\n",
            "Epoch 6/50\n",
            "28/28 [==============================] - ETA: 0s - loss: 0.7731 - accuracy: 0.6944\n",
            "Epoch 6: val_loss did not improve from 1.26777\n",
            "\n",
            "Epoch 6: ReduceLROnPlateau reducing learning rate to 0.0001250000059371814.\n",
            "28/28 [==============================] - 89s 3s/step - loss: 0.7731 - accuracy: 0.6944 - val_loss: 2.2185 - val_accuracy: 0.5091 - lr: 2.5000e-04\n",
            "Epoch 7/50\n",
            "28/28 [==============================] - ETA: 0s - loss: 0.7426 - accuracy: 0.7092\n",
            "Epoch 7: val_loss did not improve from 1.26777\n",
            "28/28 [==============================] - 91s 3s/step - loss: 0.7426 - accuracy: 0.7092 - val_loss: 2.1550 - val_accuracy: 0.5091 - lr: 1.2500e-04\n",
            "Epoch 8/50\n",
            "28/28 [==============================] - ETA: 0s - loss: 0.6682 - accuracy: 0.7275\n",
            "Epoch 8: val_loss did not improve from 1.26777\n",
            "28/28 [==============================] - 83s 3s/step - loss: 0.6682 - accuracy: 0.7275 - val_loss: 2.7269 - val_accuracy: 0.4955 - lr: 1.2500e-04\n",
            "Epoch 9/50\n",
            "28/28 [==============================] - ETA: 0s - loss: 0.7149 - accuracy: 0.7047\n",
            "Epoch 9: val_loss did not improve from 1.26777\n",
            "28/28 [==============================] - 84s 3s/step - loss: 0.7149 - accuracy: 0.7047 - val_loss: 3.2804 - val_accuracy: 0.4955 - lr: 1.2500e-04\n",
            "Epoch 10/50\n",
            "28/28 [==============================] - ETA: 0s - loss: 0.6881 - accuracy: 0.7184\n",
            "Epoch 10: val_loss did not improve from 1.26777\n",
            "28/28 [==============================] - 88s 3s/step - loss: 0.6881 - accuracy: 0.7184 - val_loss: 3.3545 - val_accuracy: 0.4864 - lr: 1.2500e-04\n",
            "Epoch 11/50\n",
            "28/28 [==============================] - ETA: 0s - loss: 0.6561 - accuracy: 0.7343Restoring model weights from the end of the best epoch: 1.\n",
            "\n",
            "Epoch 11: val_loss did not improve from 1.26777\n",
            "\n",
            "Epoch 11: ReduceLROnPlateau reducing learning rate to 6.25000029685907e-05.\n",
            "28/28 [==============================] - 81s 3s/step - loss: 0.6561 - accuracy: 0.7343 - val_loss: 3.9851 - val_accuracy: 0.4909 - lr: 1.2500e-04\n",
            "Epoch 11: early stopping\n",
            "✅ Model training complete and saved.\n"
          ]
        }
      ]
    },
    {
      "cell_type": "markdown",
      "source": [
        "**Step 7: Model Evaluation**"
      ],
      "metadata": {
        "id": "-TBkwQwV4s6Z"
      }
    },
    {
      "cell_type": "code",
      "source": [
        "import numpy as np\n",
        "import matplotlib.pyplot as plt\n",
        "import seaborn as sns\n",
        "from sklearn.metrics import classification_report, confusion_matrix, accuracy_score\n",
        "\n",
        "def evaluate_model(model, X_val, y_val, class_names=['benign', 'malignant', 'normal']):\n",
        "    # Generate predictions and convert to class indices\n",
        "    y_pred = model.predict(X_val)\n",
        "    y_pred_classes = np.argmax(y_pred, axis=1)\n",
        "\n",
        "    # Print classification report\n",
        "    print(\"Classification Report:\")\n",
        "    print(classification_report(y_val, y_pred_classes, target_names=class_names))\n",
        "\n",
        "    # Plot confusion matrix\n",
        "    cm = confusion_matrix(y_val, y_pred_classes)\n",
        "    plt.figure(figsize=(8, 6))\n",
        "    sns.heatmap(cm, annot=True, fmt='d', cmap='Blues',\n",
        "                xticklabels=class_names, yticklabels=class_names)\n",
        "    plt.title('Confusion Matrix')\n",
        "    plt.xlabel('Predicted')\n",
        "    plt.ylabel('True')\n",
        "    plt.show()\n",
        "\n",
        "    # Print per-class and overall accuracy\n",
        "    class_acc = {}\n",
        "    for i, class_name in enumerate(class_names):\n",
        "        mask = (y_val == i)\n",
        "        class_acc[class_name] = np.mean(y_pred_classes[mask] == y_val[mask])\n",
        "    print(\"Class-wise Accuracy:\")\n",
        "    for class_name, acc in class_acc.items():\n",
        "        print(f\"{class_name}: {acc:.2%}\")\n",
        "    overall_acc = accuracy_score(y_val, y_pred_classes)\n",
        "    print(f\"Overall Accuracy: {overall_acc:.2%}\")"
      ],
      "metadata": {
        "id": "1v25RPLa40hp"
      },
      "execution_count": null,
      "outputs": []
    },
    {
      "cell_type": "code",
      "source": [
        "# Run the evaluation function\n",
        "from utils.evaluate import evaluate_model\n",
        "evaluate_model(model, X_val, y_val)"
      ],
      "metadata": {
        "colab": {
          "base_uri": "https://localhost:8080/",
          "height": 331
        },
        "id": "WW62T6mc5Y0B",
        "outputId": "c5e28947-a6f1-4af9-a35e-33bb69b87aeb"
      },
      "execution_count": null,
      "outputs": [
        {
          "output_type": "error",
          "ename": "ModuleNotFoundError",
          "evalue": "No module named 'utils'",
          "traceback": [
            "\u001b[0;31m---------------------------------------------------------------------------\u001b[0m",
            "\u001b[0;31mModuleNotFoundError\u001b[0m                       Traceback (most recent call last)",
            "\u001b[0;32m<ipython-input-2-4292088e6bbc>\u001b[0m in \u001b[0;36m<cell line: 0>\u001b[0;34m()\u001b[0m\n\u001b[0;32m----> 1\u001b[0;31m \u001b[0;32mfrom\u001b[0m \u001b[0mutils\u001b[0m\u001b[0;34m.\u001b[0m\u001b[0mevaluate\u001b[0m \u001b[0;32mimport\u001b[0m \u001b[0mevaluate_model\u001b[0m\u001b[0;34m\u001b[0m\u001b[0;34m\u001b[0m\u001b[0m\n\u001b[0m\u001b[1;32m      2\u001b[0m \u001b[0mevaluate_model\u001b[0m\u001b[0;34m(\u001b[0m\u001b[0mmodel\u001b[0m\u001b[0;34m,\u001b[0m \u001b[0mX_val\u001b[0m\u001b[0;34m,\u001b[0m \u001b[0my_val\u001b[0m\u001b[0;34m)\u001b[0m\u001b[0;34m\u001b[0m\u001b[0;34m\u001b[0m\u001b[0m\n",
            "\u001b[0;31mModuleNotFoundError\u001b[0m: No module named 'utils'",
            "",
            "\u001b[0;31m---------------------------------------------------------------------------\u001b[0;32m\nNOTE: If your import is failing due to a missing package, you can\nmanually install dependencies using either !pip or !apt.\n\nTo view examples of installing some common dependencies, click the\n\"Open Examples\" button below.\n\u001b[0;31m---------------------------------------------------------------------------\u001b[0m\n"
          ],
          "errorDetails": {
            "actions": [
              {
                "action": "open_url",
                "actionText": "Open Examples",
                "url": "/notebooks/snippets/importing_libraries.ipynb"
              }
            ]
          }
        }
      ]
    },
    {
      "cell_type": "markdown",
      "source": [
        "**Step 8: Implementation of Explainable AI (Grad-CAM)**"
      ],
      "metadata": {
        "id": "TxTHY0OH438x"
      }
    },
    {
      "cell_type": "code",
      "source": [
        "import tensorflow as tf\n",
        "import cv2\n",
        "import numpy as np\n",
        "import matplotlib.pyplot as plt\n",
        "\n",
        "def grad_cam(model, img_array, layer_name='conv2d_2', class_index=None):\n",
        "    # Create a model that outputs the target convolutional layer and predictions\n",
        "    grad_model = tf.keras.models.Model(\n",
        "        [model.inputs], [model.get_layer(layer_name).output, model.output]\n",
        "    )\n",
        "\n",
        "    with tf.GradientTape() as tape:\n",
        "        conv_outputs, predictions = grad_model(img_array)\n",
        "        if class_index is None:\n",
        "            class_index = tf.argmax(predictions[0])\n",
        "        loss = predictions[:, class_index]\n",
        "\n",
        "    # Compute gradients and perform global pooling\n",
        "    grads = tape.gradient(loss, conv_outputs)\n",
        "    pooled_grads = tf.reduce_mean(grads, axis=(0, 1, 2))\n",
        "\n",
        "    conv_outputs = conv_outputs[0]\n",
        "    heatmap = conv_outputs @ pooled_grads[..., tf.newaxis]\n",
        "    heatmap = tf.squeeze(heatmap).numpy()\n",
        "    heatmap = np.maximum(heatmap, 0)\n",
        "    heatmap /= np.max(heatmap) if np.max(heatmap) != 0 else 1\n",
        "\n",
        "    # Resize the heatmap and apply the color map\n",
        "    heatmap = cv2.resize(heatmap, (img_array.shape[2], img_array.shape[1]))\n",
        "    heatmap = np.uint8(255 * heatmap)\n",
        "    heatmap = cv2.applyColorMap(heatmap, cv2.COLORMAP_JET)\n",
        "\n",
        "    # Superimpose the heatmap on the original image (converted from grayscale)\n",
        "    img = np.uint8(255 * img_array[0].squeeze())\n",
        "    img_bgr = cv2.cvtColor(img, cv2.COLOR_GRAY2BGR)\n",
        "    superimposed_img = cv2.addWeighted(img_bgr, 0.6, heatmap, 0.4, 0)\n",
        "    return superimposed_img\n",
        "\n",
        "def visualize_explanations(model, X_val, y_val, num_samples=3):\n",
        "    class_names = ['benign', 'malignant', 'normal']\n",
        "    indices = np.random.choice(len(X_val), num_samples, replace=False)\n",
        "    plt.figure(figsize=(15, 5 * num_samples))\n",
        "    for i, idx in enumerate(indices, 1):\n",
        "        img = X_val[idx]\n",
        "        true_label = class_names[y_val[idx]]\n",
        "        pred = model.predict(np.expand_dims(img, axis=0))\n",
        "        pred_class = class_names[np.argmax(pred)]\n",
        "        explanation = grad_cam(model, np.expand_dims(img, axis=0))\n",
        "\n",
        "        plt.subplot(num_samples, 2, 2 * i - 1)\n",
        "        plt.imshow(img.squeeze(), cmap='gray')\n",
        "        plt.title(f\"True: {true_label}\\nPred: {pred_class}\")\n",
        "        plt.axis('off')\n",
        "\n",
        "        plt.subplot(num_samples, 2, 2 * i)\n",
        "        plt.imshow(explanation)\n",
        "        plt.title(\"Grad-CAM Explanation\")\n",
        "        plt.axis('off')\n",
        "    plt.tight_layout()\n",
        "    plt.show()"
      ],
      "metadata": {
        "id": "e78ski0J4-5B"
      },
      "execution_count": null,
      "outputs": []
    },
    {
      "cell_type": "code",
      "source": [
        "# Visualize model explanations\n",
        "\n",
        "from utils.xai import visualize_explanations\n",
        "visualize_explanations(model, X_val, y_val, num_samples=3)"
      ],
      "metadata": {
        "id": "_uZ4z0Gj5oUy"
      },
      "execution_count": null,
      "outputs": []
    },
    {
      "cell_type": "markdown",
      "source": [
        "**Step 9: Testing Model Accuracy on Test images**"
      ],
      "metadata": {
        "id": "ddo_AQKV5OhK"
      }
    },
    {
      "cell_type": "code",
      "source": [
        "def load_test_images(test_dir, target_size=(256, 256)):\n",
        "    test_dir = Path(test_dir)\n",
        "    images = []\n",
        "    image_paths = list(test_dir.glob('*'))\n",
        "    for img_path in image_paths:\n",
        "        if img_path.suffix.lower() in ('.png', '.jpg', '.jpeg'):\n",
        "            img = cv2.imread(str(img_path), cv2.IMREAD_GRAYSCALE)\n",
        "            if img is not None:\n",
        "                img = cv2.resize(img, target_size)\n",
        "                images.append(img[..., np.newaxis] / 255.0)\n",
        "    return np.array(images), image_paths\n",
        "\n",
        "# Usage:\n",
        "test_images, test_paths = load_test_images(\"/content/drive/MyDrive/cnnprojectfinal/data/raw/test\")\n",
        "predictions = model.predict(test_images)"
      ],
      "metadata": {
        "id": "dM4D9DcP6C3S"
      },
      "execution_count": null,
      "outputs": []
    }
  ]
}